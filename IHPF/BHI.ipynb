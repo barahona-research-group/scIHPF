{
 "cells": [
  {
   "cell_type": "code",
   "execution_count": null,
   "id": "d95567d3",
   "metadata": {},
   "outputs": [],
   "source": [
    "install.packages(\"readr\")\n",
    "\n",
    "if (!require(\"BiocManager\", quietly = TRUE))\n",
    "    install.packages(\"BiocManager\")\n",
    "\n",
    "\n",
    "BiocManager::install(\"clValid\")\n",
    "BiocManager::install(\"org.Mm.eg.db\")\n",
    "BiocManager::install(\"org.Hs.eg.db\")\n",
    "\n",
    "BiocManager::install(\"clusterProfiler\")\n",
    "BiocManager::install(\"GOSemSim\")"
   ]
  },
  {
   "cell_type": "code",
   "execution_count": null,
   "id": "ee8de1b6",
   "metadata": {},
   "outputs": [],
   "source": [
    "library(\"readr\")\n",
    "library(\"clValid\")\n",
    "library('org.Mm.eg.db')\n",
    "library('org.Hs.eg.db')\n",
    "\n",
    "set.seed(12345)"
   ]
  },
  {
   "cell_type": "code",
   "execution_count": null,
   "id": "40d50379",
   "metadata": {},
   "outputs": [],
   "source": [
    "# Compute the BHI z_score for one partition\n",
    "# @param clusters: clustering ids\n",
    "# @param bhi_matrix: may contain NA as there are unmapped genes or genes with no GO terms.\n",
    "# @param n_permute: number of random clusterings\n",
    "bhi_zscore <-function(clusters,annotation,n_permute = 100){\n",
    "  random_bhi <- rep(0,n_permute)\n",
    "  cluster_bhi <- BHI(clusters, annotation, names=as.character(valid_genes[,1]), category=\"BP\")\n",
    "  for(i in 1:n_permute){\n",
    "    cids = sample(clusters)\n",
    "    random_bhi[i] <- BHI(cids, annotation, names=as.character(valid_genes[,1]), category=\"BP\")\n",
    "  }\n",
    "  return( (cluster_bhi - mean(random_bhi))/sd(random_bhi) )\n",
    "}\n",
    "\n",
    "\n",
    "# load the clusering table with each column gives the cluster ids of the samples in each row\n",
    "## The gene matrix built can be shared between methods for the same dataset\n",
    "partitions <- read.table(\"PCA_10Xmouse_gene_cluster_v5.csv\",sep=\",\", header = TRUE, row.names=1)\n",
    "genes <- rownames(partitions)\n",
    "id_used <- intersect(which(genes!=\"\"),which(duplicated(genes)==0))\n",
    "\n",
    "valid_genes <- na.omit(as.data.frame(as.matrix(mapIds(org.Hs.eg.db, genes, 'ENTREZID', 'SYMBOL'))))\n",
    "\n",
    "print('Percentage of valid genes')\n",
    "print(dim(valid_genes)[1]/length(genes)*100)\n",
    "\n",
    "\n",
    "# compute z_scores\n",
    "n_time <- length(names(partitions))\n",
    "zscores <- rep(0,n_time)\n",
    "for(i in 2:2){\n",
    "  clusters <- partitions[rownames(valid_genes),i]\n",
    "  zscores[i] <- bhi_zscore(clusters,\"org.Hs.eg.db\",n_permute=100)\n",
    "}"
   ]
  },
  {
   "cell_type": "code",
   "execution_count": null,
   "id": "a6d0e8a5",
   "metadata": {},
   "outputs": [],
   "source": [
    "genes_eid <- bitr(geneID = genes[id_used], fromType = 'SYMBOL', toType = 'ENTREZID', OrgDb = 'org.Hs.eg.db', drop = TRUE)\n",
    "\n",
    "# compute z_scores\n",
    "n_time <- length(names(partitions))\n",
    "zscores <- rep(0,n_time)\n",
    "for(i in 1:n_time){\n",
    "  clusters <- partitions[genes_eid$SYMBOL,i]\n",
    "  zscores[i] <- bhi_zscore(clusters,\"org.Hs.eg.db\",n_permute=100)\n",
    "}\n",
    "View(zscores)"
   ]
  },
  {
   "cell_type": "code",
   "execution_count": null,
   "id": "b4a05032",
   "metadata": {},
   "outputs": [],
   "source": []
  },
  {
   "cell_type": "code",
   "execution_count": null,
   "id": "1b174369",
   "metadata": {},
   "outputs": [],
   "source": []
  },
  {
   "cell_type": "code",
   "execution_count": null,
   "id": "28620db1",
   "metadata": {},
   "outputs": [],
   "source": []
  },
  {
   "cell_type": "code",
   "execution_count": null,
   "id": "a68a0b21",
   "metadata": {},
   "outputs": [],
   "source": []
  },
  {
   "cell_type": "code",
   "execution_count": null,
   "id": "4b0df3c4",
   "metadata": {},
   "outputs": [],
   "source": []
  },
  {
   "cell_type": "markdown",
   "id": "c6458c39",
   "metadata": {},
   "source": [
    "### Not longer used"
   ]
  },
  {
   "cell_type": "code",
   "execution_count": 1,
   "id": "4977c8c3",
   "metadata": {},
   "outputs": [
    {
     "ename": "SyntaxError",
     "evalue": "invalid syntax (<ipython-input-1-95c0845d4ae5>, line 3)",
     "output_type": "error",
     "traceback": [
      "\u001b[0;36m  File \u001b[0;32m\"<ipython-input-1-95c0845d4ae5>\"\u001b[0;36m, line \u001b[0;32m3\u001b[0m\n\u001b[0;31m    if (!require(\"BiocManager\", quietly = TRUE))\u001b[0m\n\u001b[0m        ^\u001b[0m\n\u001b[0;31mSyntaxError\u001b[0m\u001b[0;31m:\u001b[0m invalid syntax\n"
     ]
    }
   ],
   "source": [
    "conda install -c r r-essentials\n",
    "\n",
    "\n",
    "install.packages(\"readr\")\n",
    "\n",
    "if (!require(\"BiocManager\", quietly = TRUE))\n",
    "    install.packages(\"BiocManager\")\n",
    "\n",
    "\n",
    "BiocManager::install(\"clValid\")\n",
    "\n",
    "BiocManager::install(\"clusterProfiler\")\n",
    "BiocManager::install(\"GOSemSim\")\n",
    "BiocManager::install(\"org.Mm.eg.db\")\n",
    "BiocManager::install(\"org.Hs.eg.db\")\n",
    "BiocManager::install(\"genebabel\")"
   ]
  },
  {
   "cell_type": "code",
   "execution_count": null,
   "id": "4524919c",
   "metadata": {},
   "outputs": [],
   "source": []
  },
  {
   "cell_type": "code",
   "execution_count": 1,
   "id": "57541b14",
   "metadata": {},
   "outputs": [
    {
     "name": "stderr",
     "output_type": "stream",
     "text": [
      "also installing the dependencies ‘glue’, ‘cli’, ‘vroom’, ‘tzdb’\n",
      "\n",
      "\n",
      "Warning message in install.packages(\"readr\"):\n",
      "“installation of package ‘glue’ had non-zero exit status”\n",
      "Warning message in install.packages(\"readr\"):\n",
      "“installation of package ‘tzdb’ had non-zero exit status”\n",
      "Warning message in install.packages(\"readr\"):\n",
      "“installation of package ‘cli’ had non-zero exit status”\n",
      "Warning message in install.packages(\"readr\"):\n",
      "“installation of package ‘vroom’ had non-zero exit status”\n",
      "Warning message in install.packages(\"readr\"):\n",
      "“installation of package ‘readr’ had non-zero exit status”\n",
      "Updating HTML index of packages in '.Library'\n",
      "\n",
      "Making 'packages.html' ...\n",
      " done\n",
      "\n"
     ]
    }
   ],
   "source": [
    "install.packages(\"readr\")"
   ]
  },
  {
   "cell_type": "code",
   "execution_count": 3,
   "id": "d9a413f5",
   "metadata": {},
   "outputs": [
    {
     "ename": "NameError",
     "evalue": "name 'library' is not defined",
     "output_type": "error",
     "traceback": [
      "\u001b[0;31m---------------------------------------------------------------------------\u001b[0m",
      "\u001b[0;31mNameError\u001b[0m                                 Traceback (most recent call last)",
      "\u001b[0;32m<ipython-input-3-c0183bda39ef>\u001b[0m in \u001b[0;36m<module>\u001b[0;34m\u001b[0m\n\u001b[0;32m----> 1\u001b[0;31m \u001b[0mlibrary\u001b[0m\u001b[0;34m(\u001b[0m\u001b[0;34m\"readr\"\u001b[0m\u001b[0;34m)\u001b[0m\u001b[0;34m\u001b[0m\u001b[0;34m\u001b[0m\u001b[0m\n\u001b[0m\u001b[1;32m      2\u001b[0m \u001b[0mlibrary\u001b[0m\u001b[0;34m(\u001b[0m\u001b[0;34m'clusterProfiler'\u001b[0m\u001b[0;34m)\u001b[0m\u001b[0;34m\u001b[0m\u001b[0;34m\u001b[0m\u001b[0m\n\u001b[1;32m      3\u001b[0m \u001b[0mlibrary\u001b[0m\u001b[0;34m(\u001b[0m\u001b[0;34m'GOSemSim'\u001b[0m\u001b[0;34m)\u001b[0m\u001b[0;34m\u001b[0m\u001b[0;34m\u001b[0m\u001b[0m\n\u001b[1;32m      4\u001b[0m \u001b[0mlibrary\u001b[0m\u001b[0;34m(\u001b[0m\u001b[0;34m'org.Mm.eg.db'\u001b[0m\u001b[0;34m)\u001b[0m\u001b[0;34m\u001b[0m\u001b[0;34m\u001b[0m\u001b[0m\n\u001b[1;32m      5\u001b[0m \u001b[0mlibrary\u001b[0m\u001b[0;34m(\u001b[0m\u001b[0;34m'org.Hs.eg.db'\u001b[0m\u001b[0;34m)\u001b[0m\u001b[0;34m\u001b[0m\u001b[0;34m\u001b[0m\u001b[0m\n",
      "\u001b[0;31mNameError\u001b[0m: name 'library' is not defined"
     ]
    }
   ],
   "source": [
    "library(\"readr\")\n",
    "library('clusterProfiler')\n",
    "library('GOSemSim')\n",
    "library('org.Mm.eg.db')\n",
    "library('org.Hs.eg.db')\n",
    "\n",
    "\n",
    "# Convert HGNC name/ID to HGNC symbols\n",
    "library('genebabel')\n",
    "\n",
    "set.seed(12345)\n",
    "\n",
    "##### functions"
   ]
  },
  {
   "cell_type": "code",
   "execution_count": 4,
   "id": "15d3ca5b",
   "metadata": {},
   "outputs": [
    {
     "ename": "SyntaxError",
     "evalue": "invalid syntax (<ipython-input-4-259ec9a8bb99>, line 2)",
     "output_type": "error",
     "traceback": [
      "\u001b[0;36m  File \u001b[0;32m\"<ipython-input-4-259ec9a8bb99>\"\u001b[0;36m, line \u001b[0;32m2\u001b[0m\n\u001b[0;31m    geneSimMatirx <- function (genes, semData, measure=\"Resnik\", drop=\"IEA\", combine=\"max\", verbose=FALSE) {\u001b[0m\n\u001b[0m                                                                                                           ^\u001b[0m\n\u001b[0;31mSyntaxError\u001b[0m\u001b[0;31m:\u001b[0m invalid syntax\n"
     ]
    }
   ],
   "source": [
    "# modified from mgeneSim in GOSemSim\n",
    "geneSimMatirx <- function (genes, semData, measure=\"Resnik\", drop=\"IEA\", combine=\"max\", verbose=FALSE) {\n",
    "  genes <- unique(as.character(genes))\n",
    "  n <- length(genes)\n",
    "  scores <- matrix(NA, nrow=n, ncol=n)\n",
    "  rownames(scores) <- genes\n",
    "  colnames(scores) <- genes\n",
    "  \n",
    "  gos <- lapply(genes, gene2GO, godata=semData, dropCodes=drop)\n",
    "  uniqueGO <-  unique(unlist(gos))\n",
    "  go_matrix <- mgoSim(uniqueGO, uniqueGO, semData, measure = measure, combine = NULL)\n",
    "  if (verbose) {\n",
    "    cnt <- 1\n",
    "    pb <- txtProgressBar(min=0, max=sum(1:n), style=3)\n",
    "  }\n",
    "  for (i in seq_along(genes)) {\n",
    "    for (j in seq_len(i)){\n",
    "      if (verbose) {\n",
    "        setTxtProgressBar(pb, cnt)\n",
    "        cnt <- cnt + 1\n",
    "      }\n",
    "      scores[i,j] <- combineScores(go_matrix[gos[[i]], gos[[j]]], combine = combine)\n",
    "      scores[j,i] <- scores[i,j]\n",
    "    }\n",
    "  }\n",
    "  if (verbose)\n",
    "    close(pb)\n",
    "  #  removeRowNA <- apply(!is.na(scores), 1, sum)>0\n",
    "  #  removeColNA <- apply(!is.na(scores), 2, sum)>0\n",
    "  return(scores)\n",
    "}\n",
    "\n",
    "# copied from GOSemSim\n",
    "gene2GO <- function(gene, godata, dropCodes) {\n",
    "  goAnno <- godata@geneAnno\n",
    "  if (! \"EVIDENCE\" %in% colnames(goAnno)) {\n",
    "    warning(\"Evidence codes not found, 'drop' parameter will be ignored...\")\n",
    "  } else {\n",
    "    goAnno <- goAnno[!goAnno$EVIDENCE %in% dropCodes,]\n",
    "  }\n",
    "  go <- as.character(unique(goAnno[goAnno[,1] == gene, \"GO\"]))\n",
    "  go[!is.na(go)]\n",
    "}\n",
    "\n",
    "# Compute the sementic BHI for one partition\n",
    "# @param clusters: clustering ids\n",
    "# @param bhi_matrix: may contain NA as there are unmapped genes or genes with no GO terms.\n",
    "cluster_BHI <- function (clusters, bhi_matrix){\n",
    "  n_c <- length(unique(clusters))\n",
    "  cluster_BHI <- matrix(NA,nrow = n_c)\n",
    "  for(i in 1:n_c){\n",
    "    idx <- which(clusters==i)\n",
    "    cluster_BHI[i] <- mean(bhi_matrix[idx,idx],na.rm=TRUE)\n",
    "  }\n",
    "  return(mean(cluster_BHI,na.rm=TRUE))\n",
    "}\n",
    "\n",
    "# Compute the BHI z_score for one partition\n",
    "# @param clusters: clustering ids\n",
    "# @param bhi_matrix: may contain NA as there are unmapped genes or genes with no GO terms.\n",
    "# @param n_permute: number of random clusterings\n",
    "bhi_zscore <-function(clusters,bhi_matrix,n_permute = 500){\n",
    "  random_bhi <- rep(0,n_permute)\n",
    "  cluster_bhi <- cluster_BHI(clusters,bhi_matrix)\n",
    "  for(i in 1:n_permute){\n",
    "    cids = sample(clusters)\n",
    "    random_bhi[i] <- cluster_BHI(cids,bhi_matrix)\n",
    "  }\n",
    "  return( (cluster_bhi - mean(random_bhi))/sd(random_bhi) )\n",
    "}\n",
    "\n",
    "\n",
    "# load the clusering table with each column gives the cluster ids of the samples in each row\n",
    "## The gene matrix built can be shared between methods for the same dataset\n",
    "partitions <- read.table(\"output/IHPF_10Xpbmc_gene_cluster.csv\",sep=\",\", header = TRUE, row.names=1)\n",
    "genes <- rownames(partitions)\n",
    "id_used <- intersect(which(genes!=\"\"),which(duplicated(genes)==0))\n",
    "\n",
    "\n",
    "\n",
    "# Convert HGNC symbols to ENTREZID\n",
    "\n",
    "\n",
    "######### BHI\n",
    "#mmGO <- godata('org.Mm.eg.db', ont=\"BP\")\n",
    "mmGO <- godata('org.Hs.eg.db', ont=\"BP\")\n",
    "\n",
    "# get ENTREZID\n",
    "#genes_eid <- bitr(geneID = genes[id_used], fromType = 'SYMBOL', toType = 'ENTREZID',OrgDb = 'org.Mm.eg.db',drop = TRUE)\n",
    "genes_eid <- bitr(geneID = genes[id_used], fromType = 'SYMBOL', toType = 'ENTREZID',OrgDb = 'org.Hs.eg.db',drop = TRUE)\n",
    "genes_ENTREZID <- genes_eid$ENTREZID\n",
    "\n",
    "\n",
    "# build sementic gene similarity matrix, very slow\n",
    "g_matrix <- geneSimMatirx(genes_ENTREZID, mmGO, measure = \"Resnik\", \n",
    "                          drop = \"IEA\",combine = \"max\", verbose = FALSE)\n",
    "\n",
    "\n",
    "## Keep non zero scores from g_matrix\n",
    "n_g <- length(genes_ENTREZID)\n",
    "scores <-  matrix(NA, nrow=n_g, ncol=n_g)\n",
    "rownames(scores) <- genes_ENTREZID\n",
    "colnames(scores) <- genes_ENTREZID\n",
    "for (i in 1:n_g){\n",
    "  for (j in 1:i){\n",
    "    if(!is.na(genes_ENTREZID[i]) & !is.na(genes_ENTREZID[j]))\n",
    "      scores[genes_ENTREZID[i],genes_ENTREZID[j]] <- g_matrix[genes_ENTREZID[i],genes_ENTREZID[j]]\n",
    "  }\n",
    "}\n",
    "diag(scores) <- NA\n",
    "g_matrix <- scores\n",
    "\n",
    "# compute z_scores\n",
    "n_time <- length(names(partitions))\n",
    "zscores <- rep(0,n_time)\n",
    "for(i in 1:n_time){\n",
    "  clusters <- partitions[genes_eid$SYMBOL,i]\n",
    "  zscores[i] <- bhi_zscore(clusters,g_matrix,n_permute=1000)\n",
    "  \n",
    "}\n",
    "View(zscores)\n",
    "\n",
    "## Save zscores \n",
    "\n"
   ]
  },
  {
   "cell_type": "code",
   "execution_count": null,
   "id": "2087e273",
   "metadata": {},
   "outputs": [],
   "source": [
    "zscores"
   ]
  },
  {
   "cell_type": "code",
   "execution_count": null,
   "id": "ae6c8f42",
   "metadata": {},
   "outputs": [],
   "source": []
  },
  {
   "cell_type": "code",
   "execution_count": null,
   "id": "3562f17b",
   "metadata": {},
   "outputs": [],
   "source": []
  }
 ],
 "metadata": {
  "kernelspec": {
   "display_name": "R",
   "language": "R",
   "name": "ir"
  },
  "language_info": {
   "codemirror_mode": "r",
   "file_extension": ".r",
   "mimetype": "text/x-r-source",
   "name": "R",
   "pygments_lexer": "r",
   "version": "3.6.1"
  }
 },
 "nbformat": 4,
 "nbformat_minor": 5
}
