{
 "cells": [
  {
   "cell_type": "markdown",
   "metadata": {},
   "source": [
    "#### Setting up conda env for Scanorama, scVI\n",
    "\n",
    "\n",
    "    conda create -n scvi\n",
    "    conda activate scvi\n",
    "\n",
    "    conda install python=3.8\n",
    "    conda install -c anaconda ipykernel\n",
    "    conda install seaborn scikit-learn statsmodels numba pytables\n",
    "    conda install -c conda-forge python-igraph leidenalg\n",
    "    python -m pip install scanpy\n",
    "    conda install pytorch torchvision torchaudio cudatoolkit=10.2 -c pytorch\n",
    "    conda install scvi-tools -c bioconda -c conda-forge\n",
    "    python -m ipykernel install --user --name=scvi\n",
    "\n",
    "    python -m pip install desc\n",
    "    python -m pip install dca\n",
    "    python -m pip install scanorama"
   ]
  },
  {
   "cell_type": "code",
   "execution_count": null,
   "metadata": {},
   "outputs": [],
   "source": []
  },
  {
   "cell_type": "code",
   "execution_count": 30,
   "metadata": {},
   "outputs": [],
   "source": [
    "from scipy.sparse import coo_matrix\n",
    "from sklearn.cluster import KMeans\n",
    "from sklearn.preprocessing import normalize\n",
    "import numpy as np\n",
    "import pandas as pd\n",
    "import scanpy as sc\n",
    "from anndata import AnnData"
   ]
  },
  {
   "cell_type": "code",
   "execution_count": 31,
   "metadata": {},
   "outputs": [],
   "source": [
    "from sklearn.metrics import confusion_matrix\n",
    "from sklearn.metrics import adjusted_mutual_info_score, normalized_mutual_info_score\n",
    "from sklearn.metrics import adjusted_rand_score, silhouette_score\n",
    "from sklearn import preprocessing"
   ]
  },
  {
   "cell_type": "code",
   "execution_count": 32,
   "metadata": {},
   "outputs": [],
   "source": [
    "import seaborn as sb\n",
    "import matplotlib.pyplot as plt\n",
    "sb.set(font_scale=1.25)"
   ]
  },
  {
   "cell_type": "code",
   "execution_count": 33,
   "metadata": {},
   "outputs": [],
   "source": [
    "datasets = ['10Xmouse','humanpancreas','10Xpbmc']"
   ]
  },
  {
   "cell_type": "markdown",
   "metadata": {},
   "source": [
    "#### Data Format\n",
    "\n",
    "Each dataset contains the pre-processed merged counts from various batches with the cell types labels (actual) and batch labels (batch)"
   ]
  },
  {
   "cell_type": "code",
   "execution_count": 34,
   "metadata": {},
   "outputs": [],
   "source": [
    "import os\n",
    "import random\n",
    "import numpy as np\n",
    "import torch\n",
    "\n",
    "def set_all_seeds(seed):\n",
    "      random.seed(seed)\n",
    "      np.random.seed(seed)\n",
    "      torch.manual_seed(seed)\n",
    "      torch.cuda.manual_seed(seed)\n",
    "      torch.backends.cudnn.deterministic = True"
   ]
  },
  {
   "cell_type": "code",
   "execution_count": 35,
   "metadata": {},
   "outputs": [],
   "source": [
    "RANDOM_SEED = 0 \n",
    "set_all_seeds(RANDOM_SEED)"
   ]
  },
  {
   "cell_type": "code",
   "execution_count": 36,
   "metadata": {},
   "outputs": [],
   "source": [
    "all_results = dict()\n",
    "for name in ['batchAMI','cellAMI','batchNMI','cellNMI','batchARI','cellARI', 'SC',]:\n",
    "    all_results[name] = dict()\n",
    "    for dataset in ['10Xmouse','humanpancreas','10Xpbmc']:\n",
    "        all_results[name][dataset] = dict()"
   ]
  },
  {
   "cell_type": "code",
   "execution_count": null,
   "metadata": {},
   "outputs": [],
   "source": []
  },
  {
   "cell_type": "code",
   "execution_count": null,
   "metadata": {},
   "outputs": [],
   "source": [
    "## Scanorama"
   ]
  },
  {
   "cell_type": "code",
   "execution_count": 37,
   "metadata": {},
   "outputs": [],
   "source": [
    "import scanpy as sc\n",
    "from scanpy.external.pp import scanorama_integrate"
   ]
  },
  {
   "cell_type": "code",
   "execution_count": 38,
   "metadata": {},
   "outputs": [],
   "source": [
    "batch_labels = 'batch'\n",
    "cell_labels = 'actual' "
   ]
  },
  {
   "cell_type": "code",
   "execution_count": 39,
   "metadata": {},
   "outputs": [
    {
     "name": "stdout",
     "output_type": "stream",
     "text": [
      "[[0.         0.00450607 0.84818024]\n",
      " [0.         0.         0.65888855]\n",
      " [0.         0.         0.        ]]\n",
      "Processing datasets 293t <=> jurkat_293t_50_50\n",
      "Processing datasets jurkat <=> jurkat_293t_50_50\n",
      "\n",
      "10Xmouse\n",
      "\n",
      "[[0.         0.08329931 0.19592476 0.00940439 0.21278019]\n",
      " [0.         0.         0.63244514 0.18495298 0.24989792]\n",
      " [0.         0.         0.         0.12539185 0.45689655]\n",
      " [0.         0.         0.         0.         0.32445141]\n",
      " [0.         0.         0.         0.         0.        ]]\n",
      "Processing datasets pancreas_multi_celseq2_expression_matrix <=> pancreas_multi_celseq_expression_matrix\n",
      "Processing datasets pancreas_multi_celseq_expression_matrix <=> pancreas_multi_smartseq2_expression_matrix\n",
      "Processing datasets pancreas_multi_fluidigmc1_expression_matrix <=> pancreas_multi_smartseq2_expression_matrix\n",
      "Processing datasets pancreas_multi_celseq2_expression_matrix <=> pancreas_multi_smartseq2_expression_matrix\n",
      "Processing datasets pancreas_inDrop <=> pancreas_multi_smartseq2_expression_matrix\n",
      "Processing datasets pancreas_inDrop <=> pancreas_multi_celseq_expression_matrix\n",
      "Processing datasets pancreas_multi_celseq2_expression_matrix <=> pancreas_multi_fluidigmc1_expression_matrix\n",
      "Processing datasets pancreas_multi_celseq_expression_matrix <=> pancreas_multi_fluidigmc1_expression_matrix\n",
      "\n",
      "humanpancreas\n",
      "\n",
      "[[0.         0.05762712 0.00176913 0.00135196 0.00530739 0.\n",
      "  0.00178306 0.38036267]\n",
      " [0.         0.         0.33220339 0.03728814 0.02033898 0.1220339\n",
      "  0.2        0.66101695]\n",
      " [0.         0.         0.         0.00538648 0.02055138 0.04768467\n",
      "  0.82763744 0.01962495]\n",
      " [0.         0.         0.         0.         0.11777077 0.01681367\n",
      "  0.00624071 0.04971653]\n",
      " [0.         0.         0.         0.         0.         0.29658214\n",
      "  0.00980684 0.1146969 ]\n",
      " [0.         0.         0.         0.         0.         0.\n",
      "  0.06615215 0.06716092]\n",
      " [0.         0.         0.         0.         0.         0.\n",
      "  0.         0.16047548]\n",
      " [0.         0.         0.         0.         0.         0.\n",
      "  0.         0.        ]]\n",
      "Processing datasets cd4_t_helper <=> regulatory_t\n",
      "Processing datasets cd14_monocytes <=> pbmc_10X\n",
      "Processing datasets b_cells <=> pbmc_10X\n",
      "Processing datasets cd14_monocytes <=> cd4_t_helper\n",
      "Processing datasets cytotoxic_t <=> memory_t\n",
      "Processing datasets cd14_monocytes <=> regulatory_t\n",
      "Processing datasets regulatory_t <=> pbmc_10X\n",
      "Processing datasets cd14_monocytes <=> memory_t\n",
      "Processing datasets cd56_nk <=> cytotoxic_t\n",
      "Processing datasets cytotoxic_t <=> pbmc_10X\n",
      "\n",
      "10Xpbmc\n"
     ]
    }
   ],
   "source": [
    "for dataset in datasets:\n",
    "    adata = sc.read('../Data/{}_v2.h5ad'.format(dataset))\n",
    "    adata.layers[\"counts\"] = adata.X.copy()\n",
    "    if dataset == '10Xmouse':\n",
    "        sc.pp.recipe_zheng17(adata, n_top_genes=19268)\n",
    "    elif dataset == 'humanpancreas':\n",
    "        sc.pp.recipe_zheng17(adata, n_top_genes=15360)\n",
    "    elif dataset == '10Xpbmc':\n",
    "        sc.pp.recipe_zheng17(adata, n_top_genes=19815)\n",
    "    sc.tl.pca(adata)\n",
    "    no_cell_types = len(adata.obs[cell_labels].unique())\n",
    "    no_batches = len(adata.obs[batch_labels].unique())\n",
    "    scanorama_integrate(adata, batch_labels)\n",
    "    kmeans_cell = KMeans(n_clusters=no_cell_types, random_state=0).fit(adata.obsm['X_scanorama'])\n",
    "    adata.obs['Scanorama_kmeans_normalised'] = kmeans_cell.labels_\n",
    "    print()\n",
    "    print(dataset)\n",
    "    all_results['cellAMI'][dataset]['Scanorama'] = adjusted_mutual_info_score(adata.obs[cell_labels],adata.obs['Scanorama_kmeans_normalised'])\n",
    "    all_results['batchAMI'][dataset]['Scanorama'] = adjusted_mutual_info_score(adata.obs[batch_labels],adata.obs['Scanorama_kmeans_normalised'])\n",
    "    all_results['cellNMI'][dataset]['Scanorama'] = normalized_mutual_info_score(adata.obs[cell_labels],adata.obs['Scanorama_kmeans_normalised'])\n",
    "    all_results['batchNMI'][dataset]['Scanorama'] = normalized_mutual_info_score(adata.obs[batch_labels],adata.obs['Scanorama_kmeans_normalised'])\n",
    "    all_results['cellARI'][dataset]['Scanorama'] = adjusted_rand_score(adata.obs[cell_labels],adata.obs['Scanorama_kmeans_normalised'])\n",
    "    all_results['batchARI'][dataset]['Scanorama'] = adjusted_rand_score(adata.obs[cell_labels],adata.obs['Scanorama_kmeans_normalised'])\n",
    "    all_results['SC'][dataset]['Scanorama'] = silhouette_score(adata.obsm['X_scanorama'], adata.obs['Scanorama_kmeans_normalised'])\n",
    "    print()"
   ]
  },
  {
   "cell_type": "markdown",
   "metadata": {},
   "source": [
    "### scVI "
   ]
  },
  {
   "cell_type": "code",
   "execution_count": null,
   "metadata": {},
   "outputs": [],
   "source": [
    "import scvi"
   ]
  },
  {
   "cell_type": "code",
   "execution_count": null,
   "metadata": {},
   "outputs": [
    {
     "name": "stdout",
     "output_type": "stream",
     "text": [
      "\u001b[34mINFO    \u001b[0m Using batches from adata.obs\u001b[1m[\u001b[0m\u001b[32m\"batch\"\u001b[0m\u001b[1m]\u001b[0m                                               \n",
      "\u001b[34mINFO    \u001b[0m No label_key inputted, assuming all cells have same label                           \n",
      "\u001b[34mINFO    \u001b[0m Using data from adata.layers\u001b[1m[\u001b[0m\u001b[32m\"counts\"\u001b[0m\u001b[1m]\u001b[0m                                              \n",
      "\u001b[34mINFO    \u001b[0m Computing library size prior per batch                                              \n",
      "\u001b[34mINFO    \u001b[0m Successfully registered anndata object containing \u001b[1;36m9530\u001b[0m cells, \u001b[1;36m32643\u001b[0m vars, \u001b[1;36m3\u001b[0m batches,\n",
      "         \u001b[1;36m1\u001b[0m labels, and \u001b[1;36m0\u001b[0m proteins. Also registered \u001b[1;36m0\u001b[0m extra categorical covariates and \u001b[1;36m0\u001b[0m extra\n",
      "         continuous covariates.                                                              \n",
      "\u001b[34mINFO    \u001b[0m Please do not further modify adata until model is trained.                          \n"
     ]
    },
    {
     "name": "stderr",
     "output_type": "stream",
     "text": [
      "GPU available: False, used: False\n",
      "TPU available: False, using: 0 TPU cores\n"
     ]
    },
    {
     "name": "stdout",
     "output_type": "stream",
     "text": [
      "Epoch 400/400: 100%|██████████| 400/400 [2:18:32<00:00, 20.78s/it, loss=8.51e+03, v_num=1]  \n",
      "\n",
      "10Xmouse\n",
      "Cell AMI 0.5229180048468935\n",
      "Batch AMI 0.29242013401535916\n",
      "silhouette score 0.1267619\n",
      "\n",
      "\u001b[34mINFO    \u001b[0m Using batches from adata.obs\u001b[1m[\u001b[0m\u001b[32m\"batch\"\u001b[0m\u001b[1m]\u001b[0m                                               \n",
      "\u001b[34mINFO    \u001b[0m No label_key inputted, assuming all cells have same label                           \n",
      "\u001b[34mINFO    \u001b[0m Using data from adata.layers\u001b[1m[\u001b[0m\u001b[32m\"counts\"\u001b[0m\u001b[1m]\u001b[0m                                              \n",
      "\u001b[34mINFO    \u001b[0m Computing library size prior per batch                                              \n",
      "\u001b[34mINFO    \u001b[0m Successfully registered anndata object containing \u001b[1;36m15921\u001b[0m cells, \u001b[1;36m15369\u001b[0m vars, \u001b[1;36m5\u001b[0m        \n",
      "         batches, \u001b[1;36m1\u001b[0m labels, and \u001b[1;36m0\u001b[0m proteins. Also registered \u001b[1;36m0\u001b[0m extra categorical covariates   \n",
      "         and \u001b[1;36m0\u001b[0m extra continuous covariates.                                                  \n",
      "\u001b[34mINFO    \u001b[0m Please do not further modify adata until model is trained.                          \n"
     ]
    },
    {
     "name": "stderr",
     "output_type": "stream",
     "text": [
      "/home/mw4315/anaconda3/envs/scvi/lib/python3.8/site-packages/scvi/model/base/_base_model.py:147: UserWarning: Make sure the registered X field in anndata contains unnormalized count data.\n",
      "  warnings.warn(\n",
      "GPU available: False, used: False\n",
      "TPU available: False, using: 0 TPU cores\n"
     ]
    },
    {
     "name": "stdout",
     "output_type": "stream",
     "text": [
      "Epoch 1/400:   0%|          | 0/400 [00:00<?, ?it/s]"
     ]
    },
    {
     "name": "stderr",
     "output_type": "stream",
     "text": [
      "/home/mw4315/anaconda3/envs/scvi/lib/python3.8/site-packages/scvi/distributions/_negative_binomial.py:433: UserWarning: The value argument must be within the support of the distribution\n",
      "  warnings.warn(\n"
     ]
    },
    {
     "name": "stdout",
     "output_type": "stream",
     "text": [
      "Epoch 400/400: 100%|██████████| 400/400 [2:35:32<00:00, 23.33s/it, loss=1.12e+04, v_num=1]  \n"
     ]
    },
    {
     "name": "stderr",
     "output_type": "stream",
     "text": [
      "/home/mw4315/anaconda3/envs/scvi/lib/python3.8/site-packages/scvi/model/base/_base_model.py:147: UserWarning: Make sure the registered X field in anndata contains unnormalized count data.\n",
      "  warnings.warn(\n"
     ]
    },
    {
     "name": "stdout",
     "output_type": "stream",
     "text": [
      "\n",
      "humanpancreas\n",
      "Cell AMI 0.5971294422176757\n",
      "Batch AMI 0.08716942328630199\n",
      "silhouette score 0.2010023\n",
      "\n",
      "\u001b[34mINFO    \u001b[0m Using batches from adata.obs\u001b[1m[\u001b[0m\u001b[32m\"batch\"\u001b[0m\u001b[1m]\u001b[0m                                               \n",
      "\u001b[34mINFO    \u001b[0m No label_key inputted, assuming all cells have same label                           \n",
      "\u001b[34mINFO    \u001b[0m Using data from adata.layers\u001b[1m[\u001b[0m\u001b[32m\"counts\"\u001b[0m\u001b[1m]\u001b[0m                                              \n",
      "\u001b[34mINFO    \u001b[0m Computing library size prior per batch                                              \n",
      "\u001b[34mINFO    \u001b[0m Successfully registered anndata object containing \u001b[1;36m26202\u001b[0m cells, \u001b[1;36m32643\u001b[0m vars, \u001b[1;36m8\u001b[0m        \n",
      "         batches, \u001b[1;36m1\u001b[0m labels, and \u001b[1;36m0\u001b[0m proteins. Also registered \u001b[1;36m0\u001b[0m extra categorical covariates   \n",
      "         and \u001b[1;36m0\u001b[0m extra continuous covariates.                                                  \n",
      "\u001b[34mINFO    \u001b[0m Please do not further modify adata until model is trained.                          \n"
     ]
    },
    {
     "name": "stderr",
     "output_type": "stream",
     "text": [
      "GPU available: False, used: False\n",
      "TPU available: False, using: 0 TPU cores\n"
     ]
    },
    {
     "name": "stdout",
     "output_type": "stream",
     "text": [
      "Epoch 305/305: 100%|██████████| 305/305 [4:44:48<00:00, 56.03s/it, loss=2.42e+03, v_num=1]  \n",
      "\n",
      "10Xpbmc\n",
      "Cell AMI 0.23583526034125102\n",
      "Batch AMI 0.2177952251678045\n",
      "silhouette score 0.08262363\n",
      "\n"
     ]
    }
   ],
   "source": [
    "datasets = ['10Xmouse','humanpancreas','10Xpbmc']\n",
    "\n",
    "for dataset in datasets:\n",
    "    adata = sc.read('../Data/{}_v2.h5ad'.format(dataset))\n",
    "    adata.layers[\"counts\"] = adata.X.copy()\n",
    "    sc.pp.normalize_total(adata, target_sum=1e4)\n",
    "    sc.pp.log1p(adata)\n",
    "    adata.raw = adata \n",
    "    scvi.data.setup_anndata(adata, layer=\"counts\", batch_key=\"batch\")\n",
    "    model = scvi.model.SCVI(adata)\n",
    "    model.train()\n",
    "    latent = model.get_latent_representation()\n",
    "    adata.obsm[\"X_scVI\"] = latent\n",
    "    kmeans_cell = KMeans(n_clusters=no_cell_types, random_state=0).fit(adata.obsm['X_scVI'])\n",
    "    adata.obs['scVI_kmeans_normalised'] = kmeans_cell.labels_\n",
    "\n",
    "\n",
    "    all_results['cellAMI'][dataset]['scVI'] = adjusted_mutual_info_score(adata.obs[cell_labels],adata.obs['scVI_kmeans_normalised'])\n",
    "    all_results['batchAMI'][dataset]['scVI'] = adjusted_mutual_info_score(adata.obs[batch_labels],adata.obs['scVI_kmeans_normalised'])\n",
    "    all_results['cellNMI'][dataset]['scVI'] = normalized_mutual_info_score(adata.obs[cell_labels],adata.obs['scVI_kmeans_normalised'])\n",
    "    all_results['batchNMI'][dataset]['scVI'] = normalized_mutual_info_score(adata.obs[batch_labels],adata.obs['scVI_kmeans_normalised'])\n",
    "    all_results['cellARI'][dataset]['scVI'] = adjusted_rand_score(adata.obs[cell_labels],adata.obs['scVI_kmeans_normalised'])\n",
    "    all_results['batchARI'][dataset]['scVI'] = adjusted_rand_score(adata.obs[cell_labels],adata.obs['scVI_kmeans_normalised'])\n",
    "    all_results['SC'][dataset]['scVI'] = silhouette_score(adata.obsm['X_scVI'], adata.obs['scVI_kmeans_normalised'])\n"
   ]
  },
  {
   "cell_type": "markdown",
   "metadata": {},
   "source": [
    "#### BBKNN"
   ]
  },
  {
   "cell_type": "code",
   "execution_count": null,
   "metadata": {},
   "outputs": [],
   "source": [
    "import bbknn"
   ]
  },
  {
   "cell_type": "code",
   "execution_count": null,
   "metadata": {},
   "outputs": [
    {
     "name": "stdout",
     "output_type": "stream",
     "text": [
      "\n",
      "10Xmouse\n",
      "Cell AMI 0.15883345296878473\n",
      "Batch AMI 0.13019300086994023\n",
      "silhouette score 0.004325918163490555\n",
      "\n",
      "\n",
      "humanpancreas\n",
      "Cell AMI 0.4049020420526615\n",
      "Batch AMI 0.2738395508449958\n",
      "silhouette score 0.020782733257333035\n",
      "\n",
      "\n",
      "10Xpbmc\n",
      "Cell AMI 0.4882876692508661\n",
      "Batch AMI 0.4825287851837442\n",
      "silhouette score 0.0214443581162231\n",
      "\n"
     ]
    }
   ],
   "source": [
    "for dataset in datasets:\n",
    "    adata = sc.read('../Data/{}_v2.h5ad'.format(dataset))\n",
    "    adata.layers[\"counts\"] = adata.X.copy()\n",
    "    if dataset == '10Xmouse':\n",
    "        sc.pp.recipe_zheng17(adata, n_top_genes=19268)\n",
    "    elif dataset == 'humanpancreas':\n",
    "        sc.pp.recipe_zheng17(adata, n_top_genes=15360)\n",
    "    elif dataset == '10Xpbmc':\n",
    "        sc.pp.recipe_zheng17(adata, n_top_genes=19815)\n",
    "    sc.tl.pca(adata)\n",
    "    no_cell_types = len(adata.obs[cell_labels].unique())\n",
    "    no_batches = len(adata.obs[batch_labels].unique())\n",
    "    bbknn.bbknn(adata) \n",
    "    kmeans_cell = KMeans(n_clusters=no_cell_types, random_state=0).fit(adata.obsp['distances'])\n",
    "    adata.obs['BBKNN_kmeans_normalised'] = kmeans_cell.labels_\n",
    "\n",
    "    all_results['cellAMI'][dataset]['BBKNN'] = adjusted_mutual_info_score(adata.obs[cell_labels],adata.obs['BBKNN_kmeans_normalised'])\n",
    "    all_results['batchAMI'][dataset]['BBKNN'] = adjusted_mutual_info_score(adata.obs[batch_labels],adata.obs['BBKNN_kmeans_normalised'])\n",
    "    all_results['cellNMI'][dataset]['BBKNN'] = normalized_mutual_info_score(adata.obs[cell_labels],adata.obs['BBKNN_kmeans_normalised'])\n",
    "    all_results['batchNMI'][dataset]['BBKNN'] = normalized_mutual_info_score(adata.obs[batch_labels],adata.obs['BBKNN_kmeans_normalised'])\n",
    "    all_results['cellARI'][dataset]['BBKNN'] = adjusted_rand_score(adata.obs[cell_labels],adata.obs['BBKNN_kmeans_normalised'])\n",
    "    all_results['batchARI'][dataset]['BBKNN'] = adjusted_rand_score(adata.obs[cell_labels],adata.obs['BBKNN_kmeans_normalised'])\n",
    "    all_results['SC'][dataset]['BBKNN'] = silhouette_score(adata.obsp['distances'], adata.obs['BBKNN_kmeans_normalised'])\n"
   ]
  },
  {
   "cell_type": "markdown",
   "metadata": {},
   "source": [
    "### PCA with normalisation "
   ]
  },
  {
   "cell_type": "code",
   "execution_count": null,
   "metadata": {},
   "outputs": [],
   "source": [
    "from scipy.sparse import vstack"
   ]
  },
  {
   "cell_type": "code",
   "execution_count": null,
   "metadata": {},
   "outputs": [],
   "source": [
    "class scPCA:\n",
    "    def __init__(self, k):\n",
    "        from sklearn.decomposition import TruncatedSVD\n",
    "        np.random.seed(0)\n",
    "        self.n_components = k\n",
    "        self.method = TruncatedSVD(n_components=self.n_components)\n",
    "\n",
    "    def fit(self, X):\n",
    "        self.data = X\n",
    "        self.method.fit(self.data)\n",
    "        self.cell_score = self.method.transform(self.data)\n",
    "        self.gene_score = self.method.components_.transpose()"
   ]
  },
  {
   "cell_type": "code",
   "execution_count": null,
   "metadata": {},
   "outputs": [],
   "source": [
    "for dataset in datasets:\n",
    "    ## Replace this with the location of your h5ad files\n",
    "    adata = sc.read('../Data/{}_v2.h5ad'.format(dataset))\n",
    "    adata.layers[\"counts\"] = adata.X.copy()\n",
    "    sc.pp.normalize_total(adata, target_sum=1e4)\n",
    "    sc.pp.log1p(adata)\n",
    "    adata.raw = adata \n",
    "    no_cell_types = len(adata.obs[cell_labels].unique())\n",
    "    no_batches = len(adata.obs[batch_labels].unique())\n",
    "    # Split cell matrix into batches preserving order \n",
    "    Xlist = list()\n",
    "    split_idx = list()\n",
    "    for i,df in adata.obs.groupby(batch_labels):\n",
    "        df_ints = [int(x) for x in df.index]\n",
    "        split_idx.append(min(df_ints))\n",
    "    split_idx.append(adata.obs.shape[0])\n",
    "    split_idx = sorted(split_idx)\n",
    "    split_starts = split_idx[:-1]\n",
    "    split_ends = split_idx[1:]\n",
    "    for i in range(0,no_batches):\n",
    "        Xlist.append(coo_matrix(adata.X[split_starts[i]:split_ends[i],:]))\n",
    "    model = scPCA(no_cell_types)\n",
    "    model.fit(vstack(Xlist))\n",
    "    adata.obsm['PCA'] = model.cell_score\n",
    "    adata.varm['PCA'] = model.gene_score\n",
    "    kmeans_cell = KMeans(n_clusters=no_cell_types, random_state=0).fit(normalize(adata.obsm['PCA']))\n",
    "    adata.obs['PCA_kmeans_normalised'] = kmeans_cell.labels_\n",
    "\n",
    "    all_results['cellAMI'][dataset]['PCA'] = adjusted_mutual_info_score(adata.obs[cell_labels],adata.obs['PCA_kmeans_normalised'])\n",
    "    all_results['batchAMI'][dataset]['PCA'] = adjusted_mutual_info_score(adata.obs[batch_labels],adata.obs['PCA_kmeans_normalised'])\n",
    "    all_results['cellNMI'][dataset]['PCA'] = normalized_mutual_info_score(adata.obs[cell_labels],adata.obs['PCA_kmeans_normalised'])\n",
    "    all_results['batchNMI'][dataset]['PCA'] = normalized_mutual_info_score(adata.obs[batch_labels],adata.obs['PCA_kmeans_normalised'])\n",
    "    all_results['cellARI'][dataset]['PCA'] = adjusted_rand_score(adata.obs[cell_labels],adata.obs['PCA_kmeans_normalised'])\n",
    "    all_results['batchARI'][dataset]['PCA'] = adjusted_rand_score(adata.obs[cell_labels],adata.obs['PCA_kmeans_normalised'])\n",
    "    all_results['SC'][dataset]['PCA'] = silhouette_score(adata.obsm['PCA'], adata.obs['PCA_kmeans_normalised'])"
   ]
  },
  {
   "cell_type": "code",
   "execution_count": null,
   "metadata": {},
   "outputs": [],
   "source": [
    "import joblib\n",
    "joblib.dump(all_results,'single_cell_benchmark_scores.joblib')"
   ]
  },
  {
   "cell_type": "markdown",
   "metadata": {},
   "source": []
  },
  {
   "cell_type": "code",
   "execution_count": 6,
   "metadata": {},
   "outputs": [],
   "source": [
    "import joblib \n",
    "import pandas as pd\n",
    "benchmark_results = joblib.load('single_cell_benchmark_scores.joblib')"
   ]
  },
  {
   "cell_type": "code",
   "execution_count": 7,
   "metadata": {},
   "outputs": [
    {
     "data": {
      "text/html": [
       "<div>\n",
       "<style scoped>\n",
       "    .dataframe tbody tr th:only-of-type {\n",
       "        vertical-align: middle;\n",
       "    }\n",
       "\n",
       "    .dataframe tbody tr th {\n",
       "        vertical-align: top;\n",
       "    }\n",
       "\n",
       "    .dataframe thead th {\n",
       "        text-align: right;\n",
       "    }\n",
       "</style>\n",
       "<table border=\"1\" class=\"dataframe\">\n",
       "  <thead>\n",
       "    <tr style=\"text-align: right;\">\n",
       "      <th></th>\n",
       "      <th>10Xmouse</th>\n",
       "      <th>humanpancreas</th>\n",
       "      <th>10Xpbmc</th>\n",
       "    </tr>\n",
       "  </thead>\n",
       "  <tbody>\n",
       "    <tr>\n",
       "      <th>Scanorama</th>\n",
       "      <td>0.966656</td>\n",
       "      <td>0.354211</td>\n",
       "      <td>0.612671</td>\n",
       "    </tr>\n",
       "    <tr>\n",
       "      <th>scVI</th>\n",
       "      <td>0.522918</td>\n",
       "      <td>0.597129</td>\n",
       "      <td>0.235835</td>\n",
       "    </tr>\n",
       "    <tr>\n",
       "      <th>BBKNN</th>\n",
       "      <td>0.158833</td>\n",
       "      <td>0.404902</td>\n",
       "      <td>0.488288</td>\n",
       "    </tr>\n",
       "    <tr>\n",
       "      <th>PCA</th>\n",
       "      <td>0.970991</td>\n",
       "      <td>0.445463</td>\n",
       "      <td>0.615637</td>\n",
       "    </tr>\n",
       "  </tbody>\n",
       "</table>\n",
       "</div>"
      ],
      "text/plain": [
       "           10Xmouse  humanpancreas   10Xpbmc\n",
       "Scanorama  0.966656       0.354211  0.612671\n",
       "scVI       0.522918       0.597129  0.235835\n",
       "BBKNN      0.158833       0.404902  0.488288\n",
       "PCA        0.970991       0.445463  0.615637"
      ]
     },
     "execution_count": 7,
     "metadata": {},
     "output_type": "execute_result"
    }
   ],
   "source": [
    "pd.DataFrame(benchmark_results['cellAMI'])"
   ]
  },
  {
   "cell_type": "code",
   "execution_count": 8,
   "metadata": {},
   "outputs": [
    {
     "data": {
      "text/html": [
       "<div>\n",
       "<style scoped>\n",
       "    .dataframe tbody tr th:only-of-type {\n",
       "        vertical-align: middle;\n",
       "    }\n",
       "\n",
       "    .dataframe tbody tr th {\n",
       "        vertical-align: top;\n",
       "    }\n",
       "\n",
       "    .dataframe thead th {\n",
       "        text-align: right;\n",
       "    }\n",
       "</style>\n",
       "<table border=\"1\" class=\"dataframe\">\n",
       "  <thead>\n",
       "    <tr style=\"text-align: right;\">\n",
       "      <th></th>\n",
       "      <th>10Xmouse</th>\n",
       "      <th>humanpancreas</th>\n",
       "      <th>10Xpbmc</th>\n",
       "    </tr>\n",
       "  </thead>\n",
       "  <tbody>\n",
       "    <tr>\n",
       "      <th>Scanorama</th>\n",
       "      <td>0.986195</td>\n",
       "      <td>0.194370</td>\n",
       "      <td>0.543325</td>\n",
       "    </tr>\n",
       "    <tr>\n",
       "      <th>scVI</th>\n",
       "      <td>0.359171</td>\n",
       "      <td>0.579321</td>\n",
       "      <td>0.216429</td>\n",
       "    </tr>\n",
       "    <tr>\n",
       "      <th>BBKNN</th>\n",
       "      <td>0.032689</td>\n",
       "      <td>0.198368</td>\n",
       "      <td>0.382472</td>\n",
       "    </tr>\n",
       "    <tr>\n",
       "      <th>PCA</th>\n",
       "      <td>0.988281</td>\n",
       "      <td>0.314651</td>\n",
       "      <td>0.535658</td>\n",
       "    </tr>\n",
       "  </tbody>\n",
       "</table>\n",
       "</div>"
      ],
      "text/plain": [
       "           10Xmouse  humanpancreas   10Xpbmc\n",
       "Scanorama  0.986195       0.194370  0.543325\n",
       "scVI       0.359171       0.579321  0.216429\n",
       "BBKNN      0.032689       0.198368  0.382472\n",
       "PCA        0.988281       0.314651  0.535658"
      ]
     },
     "execution_count": 8,
     "metadata": {},
     "output_type": "execute_result"
    }
   ],
   "source": [
    "pd.DataFrame(benchmark_results['cellARI'])"
   ]
  },
  {
   "cell_type": "code",
   "execution_count": 10,
   "metadata": {},
   "outputs": [
    {
     "data": {
      "text/html": [
       "<div>\n",
       "<style scoped>\n",
       "    .dataframe tbody tr th:only-of-type {\n",
       "        vertical-align: middle;\n",
       "    }\n",
       "\n",
       "    .dataframe tbody tr th {\n",
       "        vertical-align: top;\n",
       "    }\n",
       "\n",
       "    .dataframe thead th {\n",
       "        text-align: right;\n",
       "    }\n",
       "</style>\n",
       "<table border=\"1\" class=\"dataframe\">\n",
       "  <thead>\n",
       "    <tr style=\"text-align: right;\">\n",
       "      <th></th>\n",
       "      <th>10Xmouse</th>\n",
       "      <th>humanpancreas</th>\n",
       "      <th>10Xpbmc</th>\n",
       "    </tr>\n",
       "  </thead>\n",
       "  <tbody>\n",
       "    <tr>\n",
       "      <th>Scanorama</th>\n",
       "      <td>0.966659</td>\n",
       "      <td>0.355077</td>\n",
       "      <td>0.612796</td>\n",
       "    </tr>\n",
       "    <tr>\n",
       "      <th>scVI</th>\n",
       "      <td>0.523021</td>\n",
       "      <td>0.597459</td>\n",
       "      <td>0.236066</td>\n",
       "    </tr>\n",
       "    <tr>\n",
       "      <th>BBKNN</th>\n",
       "      <td>0.158917</td>\n",
       "      <td>0.405661</td>\n",
       "      <td>0.488436</td>\n",
       "    </tr>\n",
       "    <tr>\n",
       "      <th>PCA</th>\n",
       "      <td>0.970993</td>\n",
       "      <td>0.446167</td>\n",
       "      <td>0.615756</td>\n",
       "    </tr>\n",
       "  </tbody>\n",
       "</table>\n",
       "</div>"
      ],
      "text/plain": [
       "           10Xmouse  humanpancreas   10Xpbmc\n",
       "Scanorama  0.966659       0.355077  0.612796\n",
       "scVI       0.523021       0.597459  0.236066\n",
       "BBKNN      0.158917       0.405661  0.488436\n",
       "PCA        0.970993       0.446167  0.615756"
      ]
     },
     "execution_count": 10,
     "metadata": {},
     "output_type": "execute_result"
    }
   ],
   "source": [
    "pd.DataFrame(benchmark_results['cellNMI'])"
   ]
  },
  {
   "cell_type": "code",
   "execution_count": null,
   "metadata": {},
   "outputs": [],
   "source": []
  }
 ],
 "metadata": {
  "kernelspec": {
   "display_name": "scvi",
   "language": "python",
   "name": "scvi"
  },
  "language_info": {
   "codemirror_mode": {
    "name": "ipython",
    "version": 3
   },
   "file_extension": ".py",
   "mimetype": "text/x-python",
   "name": "python",
   "nbconvert_exporter": "python",
   "pygments_lexer": "ipython3",
   "version": "3.8.10"
  }
 },
 "nbformat": 4,
 "nbformat_minor": 2
}
